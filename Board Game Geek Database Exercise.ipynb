{
 "cells": [
  {
   "cell_type": "code",
   "execution_count": 1,
   "metadata": {},
   "outputs": [],
   "source": [
    "import pandas as pd\n",
    "from sqlalchemy import create_engine, inspect"
   ]
  },
  {
   "cell_type": "code",
   "execution_count": 2,
   "metadata": {},
   "outputs": [],
   "source": [
    "db_file = r'datasets/boardgames.sqlite'"
   ]
  },
  {
   "cell_type": "code",
   "execution_count": 3,
   "metadata": {},
   "outputs": [],
   "source": [
    "engine = create_engine(f\"sqlite:///{db_file}\")"
   ]
  },
  {
   "cell_type": "code",
   "execution_count": 7,
   "metadata": {},
   "outputs": [
    {
     "name": "stdout",
     "output_type": "stream",
     "text": [
      "['BoardGames', 'bgg.ldaOut.top.documents', 'bgg.ldaOut.top.terms', 'bgg.ldaOut.topics', 'bgg.topics']\n"
     ]
    }
   ],
   "source": [
    "# Creating list of tables\n",
    "tables = engine.table_names()\n",
    "print (tables)"
   ]
  },
  {
   "cell_type": "code",
   "execution_count": 8,
   "metadata": {},
   "outputs": [
    {
     "name": "stdout",
     "output_type": "stream",
     "text": [
      "{'BoardGames': {'rows': 90400, 'columns': 81}, 'bgg.ldaOut.top.documents': {'rows': 288, 'columns': 4}, 'bgg.ldaOut.top.terms': {'rows': 250, 'columns': 4}, 'bgg.ldaOut.topics': {'rows': 29229, 'columns': 2}, 'bgg.topics': {'rows': 29313, 'columns': 74}}\n"
     ]
    }
   ],
   "source": [
    "# Creating nested dictionary of tables with rows and columns\n",
    "tabledetails = {}\n",
    "for table in tables:\n",
    "    sql = 'SELECT * FROM \"' + table + '\";'\n",
    "    table_data_df = pd.read_sql(sql, engine)\n",
    "    tabledetails[table] = {}\n",
    "    tabledetails[table]['rows'] = len(table_data_df)\n",
    "    tabledetails[table]['columns'] = len(table_data_df.columns)\n",
    "print(tabledetails)\n"
   ]
  },
  {
   "cell_type": "code",
   "execution_count": 9,
   "metadata": {},
   "outputs": [
    {
     "name": "stdout",
     "output_type": "stream",
     "text": [
      "BoardGames has 90400 rows and 81 columns.\n",
      "bgg.ldaOut.top.documents has 288 rows and 4 columns.\n",
      "bgg.ldaOut.top.terms has 250 rows and 4 columns.\n",
      "bgg.ldaOut.topics has 29229 rows and 2 columns.\n",
      "bgg.topics has 29313 rows and 74 columns.\n"
     ]
    }
   ],
   "source": [
    "# Printing out dictionary items in readable format\n",
    "for tablename, details in tabledetails.items():\n",
    "    nrows = str(tabledetails[tablename]['rows'])\n",
    "    ncols = str(tabledetails[tablename]['columns'])\n",
    "    print(tablename + ' has ' + nrows + ' rows and ' + ncols + ' columns.')"
   ]
  },
  {
   "cell_type": "code",
   "execution_count": null,
   "metadata": {},
   "outputs": [],
   "source": []
  }
 ],
 "metadata": {
  "kernelspec": {
   "display_name": "Python 3",
   "language": "python",
   "name": "python3"
  },
  "language_info": {
   "codemirror_mode": {
    "name": "ipython",
    "version": 3
   },
   "file_extension": ".py",
   "mimetype": "text/x-python",
   "name": "python",
   "nbconvert_exporter": "python",
   "pygments_lexer": "ipython3",
   "version": "3.8.3"
  }
 },
 "nbformat": 4,
 "nbformat_minor": 4
}
